{
  "nbformat": 4,
  "nbformat_minor": 0,
  "metadata": {
    "colab": {
      "provenance": [],
      "authorship_tag": "ABX9TyMhd2bBMpp7piOxeum/arkw",
      "include_colab_link": true
    },
    "kernelspec": {
      "name": "python3",
      "display_name": "Python 3"
    },
    "language_info": {
      "name": "python"
    }
  },
  "cells": [
    {
      "cell_type": "markdown",
      "metadata": {
        "id": "view-in-github",
        "colab_type": "text"
      },
      "source": [
        "<a href=\"https://colab.research.google.com/github/wtnscti/dio-python-data-analytics/blob/main/manipulando-strings-python/strings1.ipynb\" target=\"_parent\"><img src=\"https://colab.research.google.com/assets/colab-badge.svg\" alt=\"Open In Colab\"/></a>"
      ]
    },
    {
      "cell_type": "code",
      "execution_count": 1,
      "metadata": {
        "colab": {
          "base_uri": "https://localhost:8080/"
        },
        "id": "Rfst3m_jsOGz",
        "outputId": "b30500b4-0bb6-4cb8-f455-2c84bcc84760"
      },
      "outputs": [
        {
          "output_type": "stream",
          "name": "stdout",
          "text": [
            "PYTHON\n"
          ]
        }
      ],
      "source": [
        "curso = \"pYtHon\"\n",
        "print(curso.upper())"
      ]
    },
    {
      "cell_type": "code",
      "source": [
        "curso = \"pYtHon\"\n",
        "print(curso.lower())"
      ],
      "metadata": {
        "colab": {
          "base_uri": "https://localhost:8080/"
        },
        "id": "b3rG7-YZsnh3",
        "outputId": "66c03249-c535-4403-c437-282f7c95aa25"
      },
      "execution_count": 2,
      "outputs": [
        {
          "output_type": "stream",
          "name": "stdout",
          "text": [
            "python\n"
          ]
        }
      ]
    },
    {
      "cell_type": "code",
      "source": [
        "curso = \"pYtHon\"\n",
        "print(curso.title())"
      ],
      "metadata": {
        "colab": {
          "base_uri": "https://localhost:8080/"
        },
        "id": "R_X6RR6ess-m",
        "outputId": "721e9141-95cd-4b15-ebf4-bf320a9da1df"
      },
      "execution_count": 3,
      "outputs": [
        {
          "output_type": "stream",
          "name": "stdout",
          "text": [
            "Python\n"
          ]
        }
      ]
    },
    {
      "cell_type": "code",
      "source": [
        "curso = \"  pYtHon \"\n",
        "print(curso.strip())"
      ],
      "metadata": {
        "colab": {
          "base_uri": "https://localhost:8080/"
        },
        "id": "dwy_5Q_js3na",
        "outputId": "dd6f8cfb-4eee-4d93-d17d-959910aefd64"
      },
      "execution_count": 4,
      "outputs": [
        {
          "output_type": "stream",
          "name": "stdout",
          "text": [
            "pYtHon\n"
          ]
        }
      ]
    },
    {
      "cell_type": "code",
      "source": [
        "curso = \"  pYtHon \"\n",
        "print(curso.lstrip())"
      ],
      "metadata": {
        "colab": {
          "base_uri": "https://localhost:8080/"
        },
        "id": "Y6IMeohstAOy",
        "outputId": "e41a0b6a-c5c5-4d68-d629-cbd00db17774"
      },
      "execution_count": 5,
      "outputs": [
        {
          "output_type": "stream",
          "name": "stdout",
          "text": [
            "pYtHon \n"
          ]
        }
      ]
    },
    {
      "cell_type": "code",
      "source": [
        "curso = \"  pYtHon \"\n",
        "print(curso.rstrip())"
      ],
      "metadata": {
        "colab": {
          "base_uri": "https://localhost:8080/"
        },
        "id": "4FNPTU23tH3R",
        "outputId": "1bfed809-ebe0-406c-d406-82cf67e56826"
      },
      "execution_count": 6,
      "outputs": [
        {
          "output_type": "stream",
          "name": "stdout",
          "text": [
            "  pYtHon\n"
          ]
        }
      ]
    },
    {
      "cell_type": "code",
      "source": [
        "curso = \"Python\"\n",
        "print(curso.center(10,\"#\"))"
      ],
      "metadata": {
        "colab": {
          "base_uri": "https://localhost:8080/"
        },
        "id": "nMwY5Jjttso4",
        "outputId": "c0474c8d-5222-42ca-e0eb-3226154edaf6"
      },
      "execution_count": 7,
      "outputs": [
        {
          "output_type": "stream",
          "name": "stdout",
          "text": [
            "##Python##\n"
          ]
        }
      ]
    },
    {
      "cell_type": "code",
      "source": [
        "curso = \"Python\"\n",
        "print(\".\".join(curso))"
      ],
      "metadata": {
        "colab": {
          "base_uri": "https://localhost:8080/"
        },
        "id": "CuhcDYHZt_uK",
        "outputId": "f2d295a2-e1a1-41a9-f8ce-2300da906fa5"
      },
      "execution_count": 8,
      "outputs": [
        {
          "output_type": "stream",
          "name": "stdout",
          "text": [
            "P.y.t.h.o.n\n"
          ]
        }
      ]
    }
  ]
}