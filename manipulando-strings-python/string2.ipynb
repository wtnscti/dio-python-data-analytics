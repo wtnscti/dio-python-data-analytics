{
  "nbformat": 4,
  "nbformat_minor": 0,
  "metadata": {
    "colab": {
      "provenance": [],
      "authorship_tag": "ABX9TyM4X+xBEZQRSXo01CW2dnVC",
      "include_colab_link": true
    },
    "kernelspec": {
      "name": "python3",
      "display_name": "Python 3"
    },
    "language_info": {
      "name": "python"
    }
  },
  "cells": [
    {
      "cell_type": "markdown",
      "metadata": {
        "id": "view-in-github",
        "colab_type": "text"
      },
      "source": [
        "<a href=\"https://colab.research.google.com/github/wtnscti/dio-python-data-analytics/blob/main/manipulando-strings-python/string2.ipynb\" target=\"_parent\"><img src=\"https://colab.research.google.com/assets/colab-badge.svg\" alt=\"Open In Colab\"/></a>"
      ]
    },
    {
      "cell_type": "code",
      "execution_count": null,
      "metadata": {
        "colab": {
          "base_uri": "https://localhost:8080/"
        },
        "id": "Rfst3m_jsOGz",
        "outputId": "b30500b4-0bb6-4cb8-f455-2c84bcc84760"
      },
      "outputs": [
        {
          "output_type": "stream",
          "name": "stdout",
          "text": [
            "PYTHON\n"
          ]
        }
      ],
      "source": [
        "# manipulando de strings -\n",
        "curso = \"pYtHon\"\n",
        "print(curso.upper())"
      ]
    },
    {
      "cell_type": "code",
      "source": [
        "# manipulando de strings -\n",
        "curso = \"pYtHon\"\n",
        "print(curso.lower())"
      ],
      "metadata": {
        "colab": {
          "base_uri": "https://localhost:8080/"
        },
        "id": "b3rG7-YZsnh3",
        "outputId": "66c03249-c535-4403-c437-282f7c95aa25"
      },
      "execution_count": null,
      "outputs": [
        {
          "output_type": "stream",
          "name": "stdout",
          "text": [
            "python\n"
          ]
        }
      ]
    },
    {
      "cell_type": "code",
      "source": [
        "# manipulando de strings -\n",
        "curso = \"pYtHon\"\n",
        "print(curso.title())"
      ],
      "metadata": {
        "colab": {
          "base_uri": "https://localhost:8080/"
        },
        "id": "R_X6RR6ess-m",
        "outputId": "721e9141-95cd-4b15-ebf4-bf320a9da1df"
      },
      "execution_count": null,
      "outputs": [
        {
          "output_type": "stream",
          "name": "stdout",
          "text": [
            "Python\n"
          ]
        }
      ]
    },
    {
      "cell_type": "code",
      "source": [
        "# manipulando de strings -\n",
        "curso = \"  pYtHon \"\n",
        "print(curso.strip())"
      ],
      "metadata": {
        "colab": {
          "base_uri": "https://localhost:8080/"
        },
        "id": "dwy_5Q_js3na",
        "outputId": "dd6f8cfb-4eee-4d93-d17d-959910aefd64"
      },
      "execution_count": null,
      "outputs": [
        {
          "output_type": "stream",
          "name": "stdout",
          "text": [
            "pYtHon\n"
          ]
        }
      ]
    },
    {
      "cell_type": "code",
      "source": [
        "# manipulando de strings -\n",
        "curso = \"  pYtHon \"\n",
        "print(curso.lstrip())"
      ],
      "metadata": {
        "colab": {
          "base_uri": "https://localhost:8080/"
        },
        "id": "Y6IMeohstAOy",
        "outputId": "e41a0b6a-c5c5-4d68-d629-cbd00db17774"
      },
      "execution_count": null,
      "outputs": [
        {
          "output_type": "stream",
          "name": "stdout",
          "text": [
            "pYtHon \n"
          ]
        }
      ]
    },
    {
      "cell_type": "code",
      "source": [
        "# manipulando de strings -\n",
        "curso = \"  pYtHon \"\n",
        "print(curso.rstrip())"
      ],
      "metadata": {
        "colab": {
          "base_uri": "https://localhost:8080/"
        },
        "id": "4FNPTU23tH3R",
        "outputId": "1bfed809-ebe0-406c-d406-82cf67e56826"
      },
      "execution_count": null,
      "outputs": [
        {
          "output_type": "stream",
          "name": "stdout",
          "text": [
            "  pYtHon\n"
          ]
        }
      ]
    },
    {
      "cell_type": "code",
      "source": [
        "# manipulando de strings -\n",
        "curso = \"Python\"\n",
        "print(curso.center(10,\"#\"))"
      ],
      "metadata": {
        "colab": {
          "base_uri": "https://localhost:8080/"
        },
        "id": "nMwY5Jjttso4",
        "outputId": "c0474c8d-5222-42ca-e0eb-3226154edaf6"
      },
      "execution_count": null,
      "outputs": [
        {
          "output_type": "stream",
          "name": "stdout",
          "text": [
            "##Python##\n"
          ]
        }
      ]
    },
    {
      "cell_type": "code",
      "source": [
        "# manipulando de strings -\n",
        "curso = \"Python\"\n",
        "print(\".\".join(curso))"
      ],
      "metadata": {
        "colab": {
          "base_uri": "https://localhost:8080/"
        },
        "id": "CuhcDYHZt_uK",
        "outputId": "f2d295a2-e1a1-41a9-f8ce-2300da906fa5"
      },
      "execution_count": null,
      "outputs": [
        {
          "output_type": "stream",
          "name": "stdout",
          "text": [
            "P.y.t.h.o.n\n"
          ]
        }
      ]
    },
    {
      "cell_type": "code",
      "source": [
        "# manipulando de strings -\n",
        "nome = \"Wendel\"\n",
        "idade = 51\n",
        "profissao = \"analista de sistemas\"\n",
        "linguagem = \"web e mobile\"\n"
      ],
      "metadata": {
        "id": "3SpCpErlsDEo"
      },
      "execution_count": 2,
      "outputs": []
    },
    {
      "cell_type": "code",
      "source": [
        "print (\"Olá, me chamo $s. Eu tenho $d. anos de idade, trabalho como $s e estou matriculado no curso de $s.\" % (nome, idade, profissao, linguagem))"
      ],
      "metadata": {
        "id": "_nncxZIrsKiI",
        "colab": {
          "base_uri": "https://localhost:8080/",
          "height": 159
        },
        "outputId": "85ac7f89-6855-4145-b326-94614f244c3e"
      },
      "execution_count": 11,
      "outputs": [
        {
          "output_type": "error",
          "ename": "TypeError",
          "evalue": "not all arguments converted during string formatting",
          "traceback": [
            "\u001b[0;31m---------------------------------------------------------------------------\u001b[0m",
            "\u001b[0;31mTypeError\u001b[0m                                 Traceback (most recent call last)",
            "\u001b[0;32m<ipython-input-11-2e7751bbdd4a>\u001b[0m in \u001b[0;36m<cell line: 1>\u001b[0;34m()\u001b[0m\n\u001b[0;32m----> 1\u001b[0;31m \u001b[0mprint\u001b[0m \u001b[0;34m(\u001b[0m\u001b[0;34m\"Olá, me chamo $s. Eu tenho $d. anos de idade, trabalho como $s e estou matriculado no curso de $s.\"\u001b[0m \u001b[0;34m%\u001b[0m \u001b[0;34m(\u001b[0m\u001b[0mnome\u001b[0m\u001b[0;34m,\u001b[0m \u001b[0midade\u001b[0m\u001b[0;34m,\u001b[0m \u001b[0mprofissao\u001b[0m\u001b[0;34m,\u001b[0m \u001b[0mlinguagem\u001b[0m\u001b[0;34m)\u001b[0m\u001b[0;34m)\u001b[0m\u001b[0;34m\u001b[0m\u001b[0;34m\u001b[0m\u001b[0m\n\u001b[0m",
            "\u001b[0;31mTypeError\u001b[0m: not all arguments converted during string formatting"
          ]
        }
      ]
    },
    {
      "cell_type": "code",
      "source": [
        "# Metodo Format\n",
        "print (\"Olá, me chamo {}. Eu tenho {} anos de idade, trabalho como {} e estou matriculado no curso de {}.\" .format(nome, idade, profissao, linguagem))"
      ],
      "metadata": {
        "colab": {
          "base_uri": "https://localhost:8080/"
        },
        "id": "xS1TR7Z5uXyt",
        "outputId": "9ec18d97-5532-4ba0-9c73-74453f1344fe"
      },
      "execution_count": 10,
      "outputs": [
        {
          "output_type": "stream",
          "name": "stdout",
          "text": [
            "Olá, me chamo Wendel. Eu tenho 51 anos de idade, trabalho como analista de sistemas e estou matriculado no curso de web e mobile.\n"
          ]
        }
      ]
    },
    {
      "cell_type": "code",
      "source": [
        "# Metodo Format\n",
        "print (\"Olá, me chamo {3}. Eu tenho {2} anos de idade, trabalho como {1} e estou matriculado no curso de {0}.\".format(linguagem, profissao, idade, nome))"
      ],
      "metadata": {
        "colab": {
          "base_uri": "https://localhost:8080/"
        },
        "id": "_ifnr5bLvVUb",
        "outputId": "d9402c7e-072e-4274-db14-33a73d939871"
      },
      "execution_count": 12,
      "outputs": [
        {
          "output_type": "stream",
          "name": "stdout",
          "text": [
            "Olá, me chamo Wendel. Eu tenho 51 anos de idade, trabalho como analista de sistemas e estou matriculado no curso de web e mobile.\n"
          ]
        }
      ]
    },
    {
      "cell_type": "code",
      "source": [
        "# Metodo Format\n",
        "print (\"Olá, me chamo {nome}. Eu tenho {idade} anos de idade, trabalho como {profissao} e estou matriculado no curso de {linguagem}.\".format(nome=nome, idade=idade, profissao=profissao, linguagem=linguagem))"
      ],
      "metadata": {
        "colab": {
          "base_uri": "https://localhost:8080/"
        },
        "id": "rhIE8g_evsUw",
        "outputId": "f4706281-4b21-4616-bdb1-cb9514fc4b4b"
      },
      "execution_count": 13,
      "outputs": [
        {
          "output_type": "stream",
          "name": "stdout",
          "text": [
            "Olá, me chamo Wendel. Eu tenho 51 anos de idade, trabalho como analista de sistemas e estou matriculado no curso de web e mobile.\n"
          ]
        }
      ]
    },
    {
      "cell_type": "code",
      "source": [
        "# Metodo f-string\n",
        "print (\"Olá, me chamo {nome}. Eu tenho {idade} anos de idade, trabalho como {profissao} e estou matriculado no curso de {linguagem}.\")"
      ],
      "metadata": {
        "colab": {
          "base_uri": "https://localhost:8080/"
        },
        "id": "823ReFtEwE4-",
        "outputId": "8cfbf297-9fb0-44e2-972a-1cf5d3ab8973"
      },
      "execution_count": 15,
      "outputs": [
        {
          "output_type": "stream",
          "name": "stdout",
          "text": [
            "Olá, me chamo {nome}. Eu tenho {idade} anos de idade, trabalho como {profissao} e estou matriculado no curso de {linguagem}.\n"
          ]
        }
      ]
    },
    {
      "cell_type": "code",
      "source": [
        "# formatar strings com f-strings\n",
        "PI = 3.14159\n",
        "print(f\"Valor de PI: {PI:.2f}\")\n",
        "print(f\"Valor de PI: {PI:10.2f}\")"
      ],
      "metadata": {
        "colab": {
          "base_uri": "https://localhost:8080/"
        },
        "id": "_o-OoF27wrTv",
        "outputId": "bc33fd52-958c-41c7-a99d-2617af0e42f3"
      },
      "execution_count": 16,
      "outputs": [
        {
          "output_type": "stream",
          "name": "stdout",
          "text": [
            "Valor de PI: 3.14\n",
            "Valor de PI:       3.14\n"
          ]
        }
      ]
    },
    {
      "cell_type": "code",
      "source": [
        "# fatiamento de strings\n",
        "nome = \"Wendel Tadeu Nunes da Silva\"\n"
      ],
      "metadata": {
        "id": "4WLOk0YCyQcf"
      },
      "execution_count": 17,
      "outputs": []
    },
    {
      "cell_type": "code",
      "source": [
        "# fatiamento de strings - Acessando a String\n",
        "nome[0]"
      ],
      "metadata": {
        "colab": {
          "base_uri": "https://localhost:8080/",
          "height": 35
        },
        "id": "R6XDLd4YzWVx",
        "outputId": "22ac8ad1-cef8-4490-efb8-5cc32b429bf7"
      },
      "execution_count": 19,
      "outputs": [
        {
          "output_type": "execute_result",
          "data": {
            "text/plain": [
              "'W'"
            ],
            "application/vnd.google.colaboratory.intrinsic+json": {
              "type": "string"
            }
          },
          "metadata": {},
          "execution_count": 19
        }
      ]
    },
    {
      "cell_type": "code",
      "source": [
        "# fatiamento de strings - Acessando a String e  parando no carcter 6\n",
        "nome[:6]"
      ],
      "metadata": {
        "colab": {
          "base_uri": "https://localhost:8080/",
          "height": 35
        },
        "id": "K0jgUoeUzip2",
        "outputId": "1279a4da-f6c0-427f-c259-0ddda5674617"
      },
      "execution_count": 20,
      "outputs": [
        {
          "output_type": "execute_result",
          "data": {
            "text/plain": [
              "'Wendel'"
            ],
            "application/vnd.google.colaboratory.intrinsic+json": {
              "type": "string"
            }
          },
          "metadata": {},
          "execution_count": 20
        }
      ]
    },
    {
      "cell_type": "code",
      "source": [
        "# fatiamento de strings - Acessando do caracter 6 até o fim da string\n",
        "nome[6:]"
      ],
      "metadata": {
        "colab": {
          "base_uri": "https://localhost:8080/",
          "height": 35
        },
        "id": "zI-be1MLzygP",
        "outputId": "220e3df9-0552-442c-ecd1-4a95c2bef73f"
      },
      "execution_count": 21,
      "outputs": [
        {
          "output_type": "execute_result",
          "data": {
            "text/plain": [
              "' Tadeu Nunes da Silva'"
            ],
            "application/vnd.google.colaboratory.intrinsic+json": {
              "type": "string"
            }
          },
          "metadata": {},
          "execution_count": 21
        }
      ]
    },
    {
      "cell_type": "code",
      "source": [
        "# fatiamento de strings - Acessando a String do inicio a um intervalo do indice inicial e final\n",
        "nome[0:6]"
      ],
      "metadata": {
        "colab": {
          "base_uri": "https://localhost:8080/",
          "height": 35
        },
        "id": "wajfeDNu0EBX",
        "outputId": "1147918d-0444-4133-dca9-2a94a64f2632"
      },
      "execution_count": 23,
      "outputs": [
        {
          "output_type": "execute_result",
          "data": {
            "text/plain": [
              "'Wendel'"
            ],
            "application/vnd.google.colaboratory.intrinsic+json": {
              "type": "string"
            }
          },
          "metadata": {},
          "execution_count": 23
        }
      ]
    },
    {
      "cell_type": "code",
      "source": [
        "# fatiamento de strings - Acessando a String do inicio a um intervalo do indice inicial e final, passando para pegar as letras de 2 em 2\n",
        "nome[0:6:2]"
      ],
      "metadata": {
        "colab": {
          "base_uri": "https://localhost:8080/",
          "height": 35
        },
        "id": "UwUMOp_d0XPI",
        "outputId": "1e48ec68-e950-4702-d3ed-9b09969d80e5"
      },
      "execution_count": 24,
      "outputs": [
        {
          "output_type": "execute_result",
          "data": {
            "text/plain": [
              "'Wne'"
            ],
            "application/vnd.google.colaboratory.intrinsic+json": {
              "type": "string"
            }
          },
          "metadata": {},
          "execution_count": 24
        }
      ]
    },
    {
      "cell_type": "code",
      "source": [
        "# fatiamento de strings - Acessando a String , não passando o start e o stop, ele retorna a string inteira.\n",
        "nome[:]"
      ],
      "metadata": {
        "colab": {
          "base_uri": "https://localhost:8080/",
          "height": 35
        },
        "id": "dNyv0gIx06iF",
        "outputId": "cc88bcb6-fe1d-414e-a8fa-b91361d89475"
      },
      "execution_count": 25,
      "outputs": [
        {
          "output_type": "execute_result",
          "data": {
            "text/plain": [
              "'Wendel Tadeu Nunes da Silva'"
            ],
            "application/vnd.google.colaboratory.intrinsic+json": {
              "type": "string"
            }
          },
          "metadata": {},
          "execution_count": 25
        }
      ]
    },
    {
      "cell_type": "code",
      "source": [
        "# fatiamento de strings - Acessando a String , sem start, sem stop e passando -1, faz  espelhamento a string\n",
        "nome[:: -1]"
      ],
      "metadata": {
        "colab": {
          "base_uri": "https://localhost:8080/",
          "height": 35
        },
        "id": "i4R9nirE1M0o",
        "outputId": "55effdb1-26dd-4431-b950-bd08447f4f02"
      },
      "execution_count": 27,
      "outputs": [
        {
          "output_type": "execute_result",
          "data": {
            "text/plain": [
              "'avliS ad senuN uedaT ledneW'"
            ],
            "application/vnd.google.colaboratory.intrinsic+json": {
              "type": "string"
            }
          },
          "metadata": {},
          "execution_count": 27
        }
      ]
    },
    {
      "cell_type": "code",
      "source": [
        "# strings triplas\n",
        "nome = \"Wendel\"\n",
        "\n",
        "mensagem = f\"\"\"\n",
        "olá me nome é {nome},\n",
        "Eu estou aprendendo Python\n",
        "\"\"\"\n",
        "print (mensagem)"
      ],
      "metadata": {
        "colab": {
          "base_uri": "https://localhost:8080/"
        },
        "id": "TTmnOLPR2umr",
        "outputId": "4ed23762-47d2-442d-d93e-45982971afbe"
      },
      "execution_count": 32,
      "outputs": [
        {
          "output_type": "stream",
          "name": "stdout",
          "text": [
            "\n",
            "olá me nome é Wendel,\n",
            "Eu estou aprendendo Python\n",
            "\n"
          ]
        }
      ]
    },
    {
      "cell_type": "code",
      "source": [
        "# strings triplas - preservando recuos e usando aspas simples\n",
        "nome = \"Wendel\"\n",
        "\n",
        "mensagem = f'''\n",
        "   olá me nome é {nome},\n",
        "Eu estou aprendendo Python\n",
        "    essa menagem tem diferentes recuos.\n",
        "'''\n",
        "print (mensagem)"
      ],
      "metadata": {
        "colab": {
          "base_uri": "https://localhost:8080/"
        },
        "id": "kOsRKmCl3dlL",
        "outputId": "ce35975b-76f5-4a05-90f0-193cea357d6e"
      },
      "execution_count": 33,
      "outputs": [
        {
          "output_type": "stream",
          "name": "stdout",
          "text": [
            "\n",
            "   olá me nome é Wendel,\n",
            "Eu estou aprendendo Python\n",
            "    essa menagem tem diferentes recuos.\n",
            "\n"
          ]
        }
      ]
    }
  ]
}